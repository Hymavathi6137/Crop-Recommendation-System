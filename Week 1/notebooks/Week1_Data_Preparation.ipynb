# Week 1 - Data Preparation

# Import libraries
import pandas as pd

# Load dataset
data = pd.read_csv('../data/crop_recommendation.csv')
print("Dataset loaded successfully!")
print(data.head())

# Check for missing values
print("\nMissing values:\n", data.isnull().sum())

# Basic statistics
print("\nData description:\n", data.describe())

# Save cleaned data (if any cleaning needed)
data.to_csv('../data/crop_cleaned.csv', index=False)
print("\nCleaned data saved as crop_cleaned.csv")

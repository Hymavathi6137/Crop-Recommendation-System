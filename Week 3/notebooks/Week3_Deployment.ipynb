import joblib

# Load trained model
model = joblib.load("../trained_model/crop_model.pkl")

# Example input [N, P, K, temperature, humidity, pH, rainfall]
sample_input = [[90, 42, 43, 25, 80, 6.5, 200]]

# Predict crop
prediction = model.predict(sample_input)
print("✅ Recommended Crop:", prediction[0])
